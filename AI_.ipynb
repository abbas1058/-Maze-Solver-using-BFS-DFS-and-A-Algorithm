{
  "cells": [
    {
      "cell_type": "code",
      "execution_count": 10,
      "metadata": {
        "id": "Pfz3L-LXai_Z"
      },
      "outputs": [],
      "source": [
        "# Function that reads a file and returns a 2d array\n",
        "def MazeMaker(file):\n",
        "  # Open the file for reading\n",
        "  myFile = open(file,'r')\n",
        "  # Create an empty list to hold the maze\n",
        "  maze = []\n",
        "  # Read each line of the file\n",
        "  while(True):\n",
        "    line = myFile.readline()\n",
        "    # If there are no more lines, break out of the loop\n",
        "    if not line:\n",
        "      break\n",
        "    # Split the line into individual cells and remove the newline character\n",
        "    line = line.split(' ')\n",
        "    line[-1] = line[-1].strip('\\n')\n",
        "    # Add the line to the maze array\n",
        "    maze.append(line)\n",
        "  # Return the maze array\n",
        "  return maze\n",
        "\n",
        "# Set the filename of the maze file\n",
        "file = 'maze.txt'"
      ]
    },
    {
      "cell_type": "code",
      "execution_count": 11,
      "metadata": {
        "colab": {
          "base_uri": "https://localhost:8080/"
        },
        "id": "a81F3ARybfYp",
        "outputId": "c5e37511-12c3-4068-ea86-97fd94bcf7e6"
      },
      "outputs": [
        {
          "output_type": "stream",
          "name": "stdout",
          "text": [
            "[(0, 0), (0, 1), (0, 2), (1, 2), (2, 2), (3, 2), (4, 2), (4, 3), (4, 4), (5, 4), (6, 4), (6, 5), (6, 6), (6, 7), (6, 8), (7, 8), (8, 8), (8, 9), (9, 9)]\n"
          ]
        }
      ],
      "source": [
        "# Define a depth-first search function that takes a maze as input\n",
        "def dfs(maze):\n",
        "  # Create an empty stack\n",
        "  stack = []\n",
        "  \n",
        "  # Find the starting position of the maze\n",
        "  for i in range(len(maze)):\n",
        "    for j in range(len(maze[i])):\n",
        "      if maze[i][j] == 'S':\n",
        "        start = (i,j)\n",
        "  \n",
        "  # Create empty lists to hold the path, parent dictionary, and goal position\n",
        "  path = []\n",
        "  parent = {}\n",
        "  goal = None\n",
        "\n",
        "  # Push the starting position onto the stack and set its parent to None\n",
        "  start = (0,0)\n",
        "  stack.append(start)\n",
        "  parent[start] = None\n",
        "\n",
        "  # Loop while the stack is not empty\n",
        "  while stack:\n",
        "    # Pop the top position from the stack\n",
        "    temp = stack.pop()\n",
        "\n",
        "    # If the position is the goal, break out of the loop\n",
        "    if maze[temp[0]][temp[1]] == 'G':\n",
        "      goal = temp\n",
        "      break\n",
        "    \n",
        "    # Mark the current position as visited\n",
        "    maze[temp[0]][temp[1]] = 'v'\n",
        "\n",
        "    # Check the adjacent positions and push them onto the stack if they are valid\n",
        "    if temp[0]-1 >= 0:\n",
        "    #UP \n",
        "      if maze[temp[0]-1][temp[1]] != '1' and maze[temp[0]-1][temp[1]] != 'v':\n",
        "        stack.append((temp[0]-1,temp[1]))\n",
        "        parent[(temp[0]-1,temp[1])] = temp\n",
        "        \n",
        "    if temp[0] + 1 < len(maze):\n",
        "      #Down \n",
        "      if maze[temp[0] + 1][temp[1]] != '1' and maze[temp[0] + 1][temp[1]] != 'v':\n",
        "        stack.append((temp[0]+1,temp[1]))\n",
        "        parent[(temp[0] + 1,temp[1])] = temp\n",
        "        \n",
        "    if temp[1] - 1 >=0 :\n",
        "      #Left\n",
        "      if maze[temp[0]][temp[1] - 1] != '1' and maze[temp[0]][temp[1] - 1] != 'v':\n",
        "        stack.append((temp[0],temp[1] - 1))\n",
        "        parent[(temp[0],temp[1] - 1)] = temp\n",
        "        \n",
        "    if temp[1] + 1 < len(maze[0]):\n",
        "      #Right\n",
        "      if maze[temp[0]][temp[1] + 1] != '1' and maze[temp[0]][temp[1] + 1] != 'v':\n",
        "        stack.append((temp[0] ,temp[1] + 1))\n",
        "        parent[(temp[0],temp[1] + 1)] = temp\n",
        "\n",
        "  # If a goal position was found, construct the path from the parent dictionary\n",
        "  if goal:\n",
        "    curr = goal\n",
        "    path = []\n",
        "    while(curr != None):\n",
        "      path.append(curr)\n",
        "      curr = parent[curr]\n",
        "    \n",
        "    # Reverse the path and return it\n",
        "    path = path[::-1]\n",
        "    return path\n",
        "  else:\n",
        "    # If no goal position was found, return -1\n",
        "    return -1\n",
        "\n",
        "# Call the MazeMaker function to create the maze from the file 'maze.txt'\n",
        "m = MazeMaker(file)\n",
        "\n",
        "# Call the dfs function to find the path through the maze\n",
        "path = dfs(m)\n",
        "\n",
        "# Print the path\n",
        "print(path)\n"
      ]
    },
    {
      "cell_type": "code",
      "execution_count": 103,
      "metadata": {
        "id": "BUXQkgtQqDGn"
      },
      "outputs": [],
      "source": []
    },
    {
      "cell_type": "code",
      "execution_count": 13,
      "metadata": {
        "id": "LhRwdHkGsNjm",
        "colab": {
          "base_uri": "https://localhost:8080/"
        },
        "outputId": "d9ae0890-53d8-4301-97ac-d05f8c5cef0c"
      },
      "outputs": [
        {
          "output_type": "execute_result",
          "data": {
            "text/plain": [
              "[(0, 0),\n",
              " (0, 1),\n",
              " (0, 2),\n",
              " (1, 2),\n",
              " (2, 2),\n",
              " (3, 2),\n",
              " (4, 2),\n",
              " (4, 3),\n",
              " (4, 4),\n",
              " (5, 4),\n",
              " (6, 4),\n",
              " (6, 5),\n",
              " (6, 6),\n",
              " (6, 7),\n",
              " (6, 8),\n",
              " (7, 8),\n",
              " (8, 8),\n",
              " (8, 9),\n",
              " (9, 9)]"
            ]
          },
          "metadata": {},
          "execution_count": 13
        }
      ],
      "source": [
        "def bfs(maze):\n",
        "  queue = []\n",
        "  \n",
        "  # Find the starting point 'S' in the maze\n",
        "  for i in range(len(maze)):\n",
        "    for j in range(len(maze[i])):\n",
        "      if maze[i][j] == 'S':\n",
        "        start = (i,j)\n",
        "  \n",
        "  # Initialize variables for path, parent nodes, and goal\n",
        "  path = []\n",
        "  parent = {}\n",
        "  goal = None\n",
        "\n",
        "  # Add the starting point to the queue and set its parent to None\n",
        "  queue.append(start)\n",
        "  parent[start] = None\n",
        "\n",
        "  # Keep looping while there are still nodes in the queue\n",
        "  while queue:\n",
        "    # Take the first node in the queue\n",
        "    temp = queue.pop(0)\n",
        "\n",
        "    # Check if the current node is the goal 'G'\n",
        "    if maze[temp[0]][temp[1]] == 'G':\n",
        "      goal = temp\n",
        "      break\n",
        "    \n",
        "    # Mark the current node as visited 'v'\n",
        "    maze[temp[0]][temp[1]] = 'v'\n",
        "\n",
        "    # Check each adjacent node (up, down, left, right) and add it to the queue\n",
        "    # if it is a valid path (not a wall '1' and not visited before 'v')\n",
        "    if temp[0]-1 >= 0:\n",
        "      # UP \n",
        "      if maze[temp[0]-1][temp[1]] != '1' and maze[temp[0]-1][temp[1]] != 'v':\n",
        "        queue.append((temp[0]-1,temp[1]))\n",
        "        parent[(temp[0]-1,temp[1])] = temp\n",
        "        \n",
        "    if temp[0] + 1 < len(maze):\n",
        "      # Down \n",
        "      if maze[temp[0] + 1][temp[1]] != '1' and maze[temp[0] + 1][temp[1]] != 'v':\n",
        "        queue.append((temp[0]+1,temp[1]))\n",
        "        parent[(temp[0] + 1,temp[1])] = temp\n",
        "        \n",
        "    if temp[1] - 1 >=0 :\n",
        "      # Left\n",
        "      if maze[temp[0]][temp[1] - 1] != '1' and maze[temp[0]][temp[1] - 1] != 'v':\n",
        "        queue.append((temp[0],temp[1] - 1))\n",
        "        parent[(temp[0],temp[1] - 1)] = temp\n",
        "        \n",
        "\n",
        "    if temp[1] + 1 < len(maze[0]):\n",
        "      # Right\n",
        "      if maze[temp[0]][temp[1] + 1] != '1' and maze[temp[0]][temp[1] + 1] != 'v':\n",
        "        queue.append((temp[0] ,temp[1] + 1))\n",
        "        parent[(temp[0],temp[1] + 1)] = temp\n",
        "\n",
        "  # If a goal node was found, backtrack from the goal to the starting point\n",
        "  # to find the path taken, otherwise return -1 to indicate failure\n",
        "  if goal:\n",
        "    curr = goal\n",
        "    while(curr != None):\n",
        "      path.append(curr)\n",
        "      curr = parent[curr]\n",
        "    \n",
        "    path = path[::-1]\n",
        "    return path\n",
        "  else:\n",
        "    return -1\n",
        "\n",
        "# Create a new MazeMaker object and find the shortest path using bfs\n",
        "m2 = MazeMaker(file)\n",
        "path = bfs(m2)\n",
        "path"
      ]
    },
    {
      "cell_type": "code",
      "source": [
        "# define the directions to move in the maze\n",
        "directions = [(0, 1), (1, 0), (0, -1), (-1, 0)]\n",
        "\n",
        "\n",
        "# find the start and end points in the maze\n",
        "def find_start_end(maze):\n",
        "    start = (0, 0)\n",
        "    end = (len(maze) - 1, len(maze[0]) - 1)\n",
        "    return start, end\n",
        "\n",
        "# calculate the heuristic value for the A* algorithm\n",
        "def heuristic(a, b):\n",
        "    return abs(b[0] - a[0]) + abs(b[1] - a[1])\n",
        "\n",
        "# define the A* algorithm to solve the maze\n",
        "def astar(maze, start, end):\n",
        "    frontier = [(0, start)]\n",
        "    visited = {start: None}\n",
        "    while frontier:\n",
        "        # find the point with the lowest f score\n",
        "        current_f_score, current = min(frontier, key=lambda x: x[0])\n",
        "        if current == end:\n",
        "            break\n",
        "        frontier.remove((current_f_score, current))\n",
        "        for direction in directions:\n",
        "            neighbor = (current[0] + direction[0], current[1] + direction[1])\n",
        "            if neighbor[0] < 0 or neighbor[0] >= len(maze) or neighbor[1] < 0 or neighbor[1] >= len(maze[0]):\n",
        "                continue\n",
        "            if maze[neighbor[0]][neighbor[1]] == 1:\n",
        "                continue\n",
        "            new_cost = visited[current][0] + 1\n",
        "            if maze[neighbor[0]][neighbor[1]] == 2:\n",
        "                new_cost += 1\n",
        "            if neighbor not in visited or new_cost < visited[neighbor][0]:\n",
        "                visited[neighbor] = (new_cost, current)\n",
        "                priority = new_cost + heuristic(end, neighbor)\n",
        "                frontier.append((priority, neighbor))\n",
        "    path = []\n",
        "    current = end\n",
        "    while current != start:\n",
        "        path.append(current)\n",
        "        current = visited[current][1]\n",
        "    path.append(start)\n",
        "    path.reverse()\n",
        "    return path\n",
        "\n",
        "# test the implementation\n",
        "maze = MazeMaker('maze.txt')\n",
        "start, end = find_start_end(maze)\n",
        "path = astar(maze, start, end)\n",
        "print(path)\n",
        "\n",
        "\n"
      ],
      "metadata": {
        "colab": {
          "base_uri": "https://localhost:8080/",
          "height": 356
        },
        "id": "9X4BGa8EQpLl",
        "outputId": "121b288e-1324-45c0-9461-ccf6ab51b72b"
      },
      "execution_count": 14,
      "outputs": [
        {
          "output_type": "error",
          "ename": "TypeError",
          "evalue": "ignored",
          "traceback": [
            "\u001b[0;31m---------------------------------------------------------------------------\u001b[0m",
            "\u001b[0;31mTypeError\u001b[0m                                 Traceback (most recent call last)",
            "\u001b[0;32m<ipython-input-14-67f56eed59f5>\u001b[0m in \u001b[0;36m<module>\u001b[0;34m\u001b[0m\n\u001b[1;32m     48\u001b[0m \u001b[0mmaze\u001b[0m \u001b[0;34m=\u001b[0m \u001b[0mMazeMaker\u001b[0m\u001b[0;34m(\u001b[0m\u001b[0;34m'maze.txt'\u001b[0m\u001b[0;34m)\u001b[0m\u001b[0;34m\u001b[0m\u001b[0;34m\u001b[0m\u001b[0m\n\u001b[1;32m     49\u001b[0m \u001b[0mstart\u001b[0m\u001b[0;34m,\u001b[0m \u001b[0mend\u001b[0m \u001b[0;34m=\u001b[0m \u001b[0mfind_start_end\u001b[0m\u001b[0;34m(\u001b[0m\u001b[0mmaze\u001b[0m\u001b[0;34m)\u001b[0m\u001b[0;34m\u001b[0m\u001b[0;34m\u001b[0m\u001b[0m\n\u001b[0;32m---> 50\u001b[0;31m \u001b[0mpath\u001b[0m \u001b[0;34m=\u001b[0m \u001b[0mastar\u001b[0m\u001b[0;34m(\u001b[0m\u001b[0mmaze\u001b[0m\u001b[0;34m,\u001b[0m \u001b[0mstart\u001b[0m\u001b[0;34m,\u001b[0m \u001b[0mend\u001b[0m\u001b[0;34m)\u001b[0m\u001b[0;34m\u001b[0m\u001b[0;34m\u001b[0m\u001b[0m\n\u001b[0m\u001b[1;32m     51\u001b[0m \u001b[0mprint\u001b[0m\u001b[0;34m(\u001b[0m\u001b[0mpath\u001b[0m\u001b[0;34m)\u001b[0m\u001b[0;34m\u001b[0m\u001b[0;34m\u001b[0m\u001b[0m\n\u001b[1;32m     52\u001b[0m \u001b[0;34m\u001b[0m\u001b[0m\n",
            "\u001b[0;32m<ipython-input-14-67f56eed59f5>\u001b[0m in \u001b[0;36mastar\u001b[0;34m(maze, start, end)\u001b[0m\n\u001b[1;32m     29\u001b[0m             \u001b[0;32mif\u001b[0m \u001b[0mmaze\u001b[0m\u001b[0;34m[\u001b[0m\u001b[0mneighbor\u001b[0m\u001b[0;34m[\u001b[0m\u001b[0;36m0\u001b[0m\u001b[0;34m]\u001b[0m\u001b[0;34m]\u001b[0m\u001b[0;34m[\u001b[0m\u001b[0mneighbor\u001b[0m\u001b[0;34m[\u001b[0m\u001b[0;36m1\u001b[0m\u001b[0;34m]\u001b[0m\u001b[0;34m]\u001b[0m \u001b[0;34m==\u001b[0m \u001b[0;36m1\u001b[0m\u001b[0;34m:\u001b[0m\u001b[0;34m\u001b[0m\u001b[0;34m\u001b[0m\u001b[0m\n\u001b[1;32m     30\u001b[0m                 \u001b[0;32mcontinue\u001b[0m\u001b[0;34m\u001b[0m\u001b[0;34m\u001b[0m\u001b[0m\n\u001b[0;32m---> 31\u001b[0;31m             \u001b[0mnew_cost\u001b[0m \u001b[0;34m=\u001b[0m \u001b[0mvisited\u001b[0m\u001b[0;34m[\u001b[0m\u001b[0mcurrent\u001b[0m\u001b[0;34m]\u001b[0m\u001b[0;34m[\u001b[0m\u001b[0;36m0\u001b[0m\u001b[0;34m]\u001b[0m \u001b[0;34m+\u001b[0m \u001b[0;36m1\u001b[0m\u001b[0;34m\u001b[0m\u001b[0;34m\u001b[0m\u001b[0m\n\u001b[0m\u001b[1;32m     32\u001b[0m             \u001b[0;32mif\u001b[0m \u001b[0mmaze\u001b[0m\u001b[0;34m[\u001b[0m\u001b[0mneighbor\u001b[0m\u001b[0;34m[\u001b[0m\u001b[0;36m0\u001b[0m\u001b[0;34m]\u001b[0m\u001b[0;34m]\u001b[0m\u001b[0;34m[\u001b[0m\u001b[0mneighbor\u001b[0m\u001b[0;34m[\u001b[0m\u001b[0;36m1\u001b[0m\u001b[0;34m]\u001b[0m\u001b[0;34m]\u001b[0m \u001b[0;34m==\u001b[0m \u001b[0;36m2\u001b[0m\u001b[0;34m:\u001b[0m\u001b[0;34m\u001b[0m\u001b[0;34m\u001b[0m\u001b[0m\n\u001b[1;32m     33\u001b[0m                 \u001b[0mnew_cost\u001b[0m \u001b[0;34m+=\u001b[0m \u001b[0;36m1\u001b[0m\u001b[0;34m\u001b[0m\u001b[0;34m\u001b[0m\u001b[0m\n",
            "\u001b[0;31mTypeError\u001b[0m: 'NoneType' object is not subscriptable"
          ]
        }
      ]
    },
    {
      "cell_type": "code",
      "source": [],
      "metadata": {
        "colab": {
          "base_uri": "https://localhost:8080/",
          "height": 339
        },
        "id": "2J94vNYdRJAP",
        "outputId": "f33a6dde-bc04-47d3-d1e4-16870cded467"
      },
      "execution_count": 6,
      "outputs": [
        {
          "output_type": "error",
          "ename": "TypeError",
          "evalue": "ignored",
          "traceback": [
            "\u001b[0;31m---------------------------------------------------------------------------\u001b[0m",
            "\u001b[0;31mTypeError\u001b[0m                                 Traceback (most recent call last)",
            "\u001b[0;32m<ipython-input-6-7502d1e4955f>\u001b[0m in \u001b[0;36m<module>\u001b[0;34m\u001b[0m\n\u001b[1;32m     64\u001b[0m \u001b[0mmaze\u001b[0m \u001b[0;34m=\u001b[0m \u001b[0mread_maze\u001b[0m\u001b[0;34m(\u001b[0m\u001b[0;34m'maze.txt'\u001b[0m\u001b[0;34m)\u001b[0m\u001b[0;34m\u001b[0m\u001b[0;34m\u001b[0m\u001b[0m\n\u001b[1;32m     65\u001b[0m \u001b[0mstart\u001b[0m\u001b[0;34m,\u001b[0m \u001b[0mend\u001b[0m \u001b[0;34m=\u001b[0m \u001b[0mfind_start_end\u001b[0m\u001b[0;34m(\u001b[0m\u001b[0mmaze\u001b[0m\u001b[0;34m)\u001b[0m\u001b[0;34m\u001b[0m\u001b[0;34m\u001b[0m\u001b[0m\n\u001b[0;32m---> 66\u001b[0;31m \u001b[0mpath\u001b[0m \u001b[0;34m=\u001b[0m \u001b[0mastar\u001b[0m\u001b[0;34m(\u001b[0m\u001b[0mmaze\u001b[0m\u001b[0;34m,\u001b[0m\u001b[0mstart\u001b[0m\u001b[0;34m,\u001b[0m\u001b[0mend\u001b[0m\u001b[0;34m)\u001b[0m\u001b[0;34m\u001b[0m\u001b[0;34m\u001b[0m\u001b[0m\n\u001b[0m\u001b[1;32m     67\u001b[0m \u001b[0;34m\u001b[0m\u001b[0m\n",
            "\u001b[0;32m<ipython-input-6-7502d1e4955f>\u001b[0m in \u001b[0;36mastar\u001b[0;34m(maze, start, end)\u001b[0m\n\u001b[1;32m     34\u001b[0m             \u001b[0;32mif\u001b[0m \u001b[0mmaze\u001b[0m\u001b[0;34m[\u001b[0m\u001b[0mneighbor\u001b[0m\u001b[0;34m[\u001b[0m\u001b[0;36m0\u001b[0m\u001b[0;34m]\u001b[0m\u001b[0;34m]\u001b[0m\u001b[0;34m[\u001b[0m\u001b[0mneighbor\u001b[0m\u001b[0;34m[\u001b[0m\u001b[0;36m1\u001b[0m\u001b[0;34m]\u001b[0m\u001b[0;34m]\u001b[0m \u001b[0;34m==\u001b[0m \u001b[0;36m1\u001b[0m\u001b[0;34m:\u001b[0m\u001b[0;34m\u001b[0m\u001b[0;34m\u001b[0m\u001b[0m\n\u001b[1;32m     35\u001b[0m                 \u001b[0;32mcontinue\u001b[0m\u001b[0;34m\u001b[0m\u001b[0;34m\u001b[0m\u001b[0m\n\u001b[0;32m---> 36\u001b[0;31m             \u001b[0mnew_cost\u001b[0m \u001b[0;34m=\u001b[0m \u001b[0mvisited\u001b[0m\u001b[0;34m[\u001b[0m\u001b[0mcurrent\u001b[0m\u001b[0;34m]\u001b[0m\u001b[0;34m[\u001b[0m\u001b[0;36m0\u001b[0m\u001b[0;34m]\u001b[0m \u001b[0;34m+\u001b[0m \u001b[0;36m1\u001b[0m\u001b[0;34m\u001b[0m\u001b[0;34m\u001b[0m\u001b[0m\n\u001b[0m\u001b[1;32m     37\u001b[0m             \u001b[0;32mif\u001b[0m \u001b[0mmaze\u001b[0m\u001b[0;34m[\u001b[0m\u001b[0mneighbor\u001b[0m\u001b[0;34m[\u001b[0m\u001b[0;36m0\u001b[0m\u001b[0;34m]\u001b[0m\u001b[0;34m]\u001b[0m\u001b[0;34m[\u001b[0m\u001b[0mneighbor\u001b[0m\u001b[0;34m[\u001b[0m\u001b[0;36m1\u001b[0m\u001b[0;34m]\u001b[0m\u001b[0;34m]\u001b[0m \u001b[0;34m==\u001b[0m \u001b[0;36m2\u001b[0m\u001b[0;34m:\u001b[0m\u001b[0;34m\u001b[0m\u001b[0;34m\u001b[0m\u001b[0m\n\u001b[1;32m     38\u001b[0m                 \u001b[0mnew_cost\u001b[0m \u001b[0;34m+=\u001b[0m \u001b[0;36m1\u001b[0m\u001b[0;34m\u001b[0m\u001b[0;34m\u001b[0m\u001b[0m\n",
            "\u001b[0;31mTypeError\u001b[0m: 'NoneType' object is not subscriptable"
          ]
        }
      ]
    },
    {
      "cell_type": "code",
      "source": [],
      "metadata": {
        "id": "kJ3esBWQRMEq"
      },
      "execution_count": null,
      "outputs": []
    }
  ],
  "metadata": {
    "colab": {
      "provenance": []
    },
    "kernelspec": {
      "display_name": "Python 3",
      "name": "python3"
    },
    "language_info": {
      "name": "python"
    }
  },
  "nbformat": 4,
  "nbformat_minor": 0
}